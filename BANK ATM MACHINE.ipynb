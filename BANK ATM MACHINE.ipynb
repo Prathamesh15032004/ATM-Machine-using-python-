{
 "cells": [
  {
   "cell_type": "code",
   "execution_count": 2,
   "id": "91a3b01d-cbe7-4928-b5bc-546d29c8bece",
   "metadata": {},
   "outputs": [
    {
     "name": "stdout",
     "output_type": "stream",
     "text": [
      "Your current balance is: $0\n"
     ]
    },
    {
     "name": "stdin",
     "output_type": "stream",
     "text": [
      "Enter amount to deposit:  5000\n"
     ]
    },
    {
     "name": "stdout",
     "output_type": "stream",
     "text": [
      "$5000.0 deposited successfully.\n",
      "Your current balance is: $5000.0\n"
     ]
    },
    {
     "name": "stdin",
     "output_type": "stream",
     "text": [
      "Enter amount to withdraw:  400\n"
     ]
    },
    {
     "name": "stdout",
     "output_type": "stream",
     "text": [
      "$400.0 withdrawn successfully.\n",
      "Your current balance is: $4600.0\n"
     ]
    }
   ],
   "source": [
    "import tkinter as tk\n",
    "\n",
    "class ATM:\n",
    "    def __init__(self, balance=0):\n",
    "        self.balance = balance\n",
    "\n",
    "    def check_balance(self):\n",
    "        print(f\"Your current balance is: ${self.balance}\")\n",
    "\n",
    "    def deposit(self, amount):\n",
    "        if amount > 0:\n",
    "            self.balance += amount\n",
    "            print(f\"${amount} deposited successfully.\")\n",
    "        else:\n",
    "            print(\"Invalid deposit amount.\")\n",
    "\n",
    "    def withdraw(self, amount):\n",
    "        if amount > self.balance:\n",
    "            print(\"Insufficient balance.\")\n",
    "        elif amount <= 0:\n",
    "            print(\"Invalid withdrawal amount.\")\n",
    "        else:\n",
    "            self.balance -= amount\n",
    "            print(f\"${amount} withdrawn successfully.\")\n",
    "\n",
    "    def main(self):\n",
    "        while True:\n",
    "            print(\"\\nATM Menu:\")\n",
    "            print(\"1. Check Balance\")\n",
    "            print(\"2. Deposit Money\")\n",
    "            print(\"3. Withdraw Money\")\n",
    "            print(\"4. Exit\")\n",
    "            choice = int(input(\"Enter your choice: \"))\n",
    "\n",
    "            if choice == 1:\n",
    "                self.check_balance()\n",
    "            elif choice == 2:\n",
    "                amount = float(input(\"Enter amount to deposit: \"))\n",
    "                self.deposit(amount)\n",
    "            elif choice == 3:\n",
    "                amount = float(input(\"Enter amount to withdraw: \"))\n",
    "                self.withdraw(amount)\n",
    "            elif choice == 4:\n",
    "                print(\"Thank you for using the ATM. Goodbye!\")\n",
    "                break\n",
    "            else:\n",
    "                print(\"Invalid choice. Please try again.\")\n",
    "\n",
    "if __name__ == \"__main__\":\n",
    "    atm = ATM(0)  # Current balance\n",
    "\n",
    "    window = tk.Tk()\n",
    "    window.title(\"ATM\")\n",
    "    window.configure(bg='Darkred')\n",
    "    window.geometry('300x330')\n",
    "\n",
    "    tk.Label(window, text=\"ATM Machine\",fg='Darkblue', font=('Helvetica', 16)).place(relx=0.5, rely=0.2, anchor=tk.CENTER)\n",
    "\n",
    "    # Create buttons\n",
    "    # check balance button\n",
    "    tk.Button(window, text='Check Balance', command=atm.check_balance, fg='Darkgreen', font=('Helvetica', 15), width=18).place(x=50, y=100)\n",
    "    # deposit button\n",
    "    tk.Button(window, text='Deposit Money', command=lambda: atm.deposit(float(input(\"Enter amount to deposit: \"))), fg='Darkgreen', font=('Helvetica', 15), width=18).place(x=50, y=150)\n",
    "    # withdraw button\n",
    "    tk.Button(window, text='Withdraw Money', command=lambda: atm.withdraw(float(input(\"Enter amount to withdraw: \"))), fg='Darkgreen', font=('Helvetica', 15), width=18).place(x=50, y=200)\n",
    "    # window quit button\n",
    "    tk.Button(window, text='Exit', command=window.quit, fg='Darkgreen', font=('Helvetica', 15), width=18).place(x=50, y=250)\n",
    "\n",
    "    window.mainloop()\n"
   ]
  },
  {
   "cell_type": "code",
   "execution_count": null,
   "id": "03c9b81d-9e34-4d28-abdb-f050349e5d6e",
   "metadata": {},
   "outputs": [],
   "source": []
  }
 ],
 "metadata": {
  "kernelspec": {
   "display_name": "Python 3 (ipykernel)",
   "language": "python",
   "name": "python3"
  },
  "language_info": {
   "codemirror_mode": {
    "name": "ipython",
    "version": 3
   },
   "file_extension": ".py",
   "mimetype": "text/x-python",
   "name": "python",
   "nbconvert_exporter": "python",
   "pygments_lexer": "ipython3",
   "version": "3.12.4"
  }
 },
 "nbformat": 4,
 "nbformat_minor": 5
}
